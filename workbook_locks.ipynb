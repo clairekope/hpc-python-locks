{
 "cells": [
  {
   "cell_type": "markdown",
   "metadata": {},
   "source": [
    "*Your Name*\n",
    "\n",
    "*Collaborator's Names*"
   ]
  },
  {
   "cell_type": "markdown",
   "metadata": {},
   "source": [
    "# Locks!\n",
    "\n",
    "Programs that are \"pleasantly parallel\" don't have to have their processes share any information about their \"state\". Unfortunately, not every problem we want to solve can be pleasantly parallel.\n",
    "\n",
    "Its common for our programs to need to write something to file. As we'll see in this workbook, multiple processes writing to the same file at the same time is a recipe for disaster. We'll learn a couple ways to handle this problem."
   ]
  },
  {
   "cell_type": "markdown",
   "metadata": {},
   "source": [
    "## File Writing Conflicts\n",
    "\n",
    "First we'll explore the worst case scenario: multiple processes writing to the same file at the same time. \n",
    "\n",
    "Take the following function as an example:"
   ]
  },
  {
   "cell_type": "code",
   "execution_count": 11,
   "metadata": {},
   "outputs": [],
   "source": [
    "import os\n",
    "\n",
    "def work(max_count, filename):\n",
    "\n",
    "    for n in range(max_count):\n",
    "        \n",
    "        # Check for data already present\n",
    "        if os.path.isfile(filename):\n",
    "            f = open(filename, \"r\")\n",
    "            try:\n",
    "                nbr = int(f.read())\n",
    "            except ValueError as err:\n",
    "                # The flush argument helps print messages appear correctly\n",
    "                # when multiple processes are trying to print\n",
    "                print(\"File read error, starting to count from 0; error: \" + str(err),\n",
    "                      flush=True)\n",
    "                nbr = 0\n",
    "        else:\n",
    "            print(\"File doesn't exist, starting to count from 0.\", flush=True)\n",
    "            nbr = 0 \n",
    "\n",
    "        # Update data\n",
    "        next = nbr + 1\n",
    "\n",
    "        # Write update (overwrite existing data)\n",
    "        f = open(filename, \"w\")\n",
    "        f.write(str(next) + '\\n')\n",
    "        f.close()"
   ]
  },
  {
   "cell_type": "markdown",
   "metadata": {},
   "source": [
    "\n",
    "This example is very artificial, but it mimics a case where processes are sharing information back and forth by writing it to file. This function makes a process check that file for the current result (`nbr = int(f.read())`), update it (`next = nbr + 1`), and then write out its update (`f.write(str(next) + '\\n')`). In theory, another process can then read in these results and perform its own update.\n",
    "\n",
    "If everything goes correctly, the number written to file should be the sum of each processes' value for `max_count`."
   ]
  },
  {
   "cell_type": "markdown",
   "metadata": {},
   "source": [
    "---\n",
    "### Exercises\n",
    "\n",
    "1. Run the `work` function on **one** process, with `max_count = 1000` and `filename = serial.txt`. What number is in this file when the function finishes? Does it meet your expectations?\n",
    "\n",
    "Warning: If you run `work` multiple times when `serial.txt` already exists, the value inside will keep going up!"
   ]
  },
  {
   "cell_type": "markdown",
   "metadata": {},
   "source": [
    "*Answer here*"
   ]
  },
  {
   "cell_type": "code",
   "execution_count": 7,
   "metadata": {},
   "outputs": [],
   "source": [
    "!rm serial.txt"
   ]
  },
  {
   "cell_type": "code",
   "execution_count": 8,
   "metadata": {},
   "outputs": [
    {
     "name": "stdout",
     "output_type": "stream",
     "text": [
      "File doesn't exist, starting to count from 0.\n",
      "1000\n",
      "\n"
     ]
    }
   ],
   "source": [
    "work(1000, \"serial.txt\")\n",
    "\n",
    "with open(\"serial.txt\", \"r\") as f:\n",
    "    print(f.read())\n"
   ]
  },
  {
   "cell_type": "markdown",
   "metadata": {},
   "source": [
    "It should be 1000, and is 1000."
   ]
  },
  {
   "cell_type": "markdown",
   "metadata": {},
   "source": [
    "2. Lets run this function on **two** processes using `Pool.map`. Each process should run with `filename = parallel.txt`. They should get `max_counts` of 1,000 and 2,000.\n",
    "\n",
    "    This is our first time using `Pool.map` with a function that takes multiple arguments. We can use `functools.partial` to fix the values of arguments other than the first (i.e., we can set parameters other than `max_counts` to values of our choosing):\n",
    "\n",
    "    `partial_func = functools.partial(work, filename=\"parallel.txt\")`\n",
    "\n",
    "    We can now use `partial_func` like any other function. It's one argument is `max_counts`.\n",
    "\n",
    "Warning: If you run `work` multiple times when `parallel.txt` already exists, the value inside will keep going up!"
   ]
  },
  {
   "cell_type": "code",
   "execution_count": null,
   "metadata": {},
   "outputs": [],
   "source": []
  },
  {
   "cell_type": "code",
   "execution_count": 14,
   "metadata": {},
   "outputs": [
    {
     "name": "stdout",
     "output_type": "stream",
     "text": [
      "File doesn't exist, starting to count from 0.File doesn't exist, starting to count from 0.\n",
      "\n",
      "File read error, starting to count from 0; error: invalid literal for int() with base 10: ''\n",
      "File read error, starting to count from 0; error: invalid literal for int() with base 10: ''\n",
      "File read error, starting to count from 0; error: invalid literal for int() with base 10: ''\n",
      "File read error, starting to count from 0; error: invalid literal for int() with base 10: ''\n",
      "File read error, starting to count from 0; error: invalid literal for int() with base 10: ''\n",
      "File read error, starting to count from 0; error: invalid literal for int() with base 10: ''\n",
      "File read error, starting to count from 0; error: invalid literal for int() with base 10: ''\n",
      "File read error, starting to count from 0; error: invalid literal for int() with base 10: ''\n",
      "File read error, starting to count from 0; error: invalid literal for int() with base 10: ''\n",
      "File read error, starting to count from 0; error: invalid literal for int() with base 10: ''\n",
      "File read error, starting to count from 0; error: invalid literal for int() with base 10: ''\n",
      "File read error, starting to count from 0; error: invalid literal for int() with base 10: ''\n",
      "File read error, starting to count from 0; error: invalid literal for int() with base 10: ''\n",
      "File read error, starting to count from 0; error: invalid literal for int() with base 10: ''\n",
      "File read error, starting to count from 0; error: invalid literal for int() with base 10: ''\n",
      "File read error, starting to count from 0; error: invalid literal for int() with base 10: ''\n",
      "File read error, starting to count from 0; error: invalid literal for int() with base 10: ''\n",
      "File read error, starting to count from 0; error: invalid literal for int() with base 10: ''\n",
      "File read error, starting to count from 0; error: invalid literal for int() with base 10: ''\n",
      "File read error, starting to count from 0; error: invalid literal for int() with base 10: ''\n",
      "File read error, starting to count from 0; error: invalid literal for int() with base 10: ''\n",
      "File read error, starting to count from 0; error: invalid literal for int() with base 10: ''\n",
      "File read error, starting to count from 0; error: invalid literal for int() with base 10: ''\n",
      "File read error, starting to count from 0; error: invalid literal for int() with base 10: ''\n",
      "File read error, starting to count from 0; error: invalid literal for int() with base 10: ''\n",
      "File read error, starting to count from 0; error: invalid literal for int() with base 10: ''\n",
      "File read error, starting to count from 0; error: invalid literal for int() with base 10: ''\n",
      "File read error, starting to count from 0; error: invalid literal for int() with base 10: ''\n",
      "File read error, starting to count from 0; error: invalid literal for int() with base 10: ''\n",
      "File read error, starting to count from 0; error: invalid literal for int() with base 10: ''\n",
      "File read error, starting to count from 0; error: invalid literal for int() with base 10: ''\n",
      "File read error, starting to count from 0; error: invalid literal for int() with base 10: ''\n",
      "File read error, starting to count from 0; error: invalid literal for int() with base 10: ''\n",
      "File read error, starting to count from 0; error: invalid literal for int() with base 10: ''\n",
      "File read error, starting to count from 0; error: invalid literal for int() with base 10: ''\n",
      "File read error, starting to count from 0; error: invalid literal for int() with base 10: ''\n",
      "File read error, starting to count from 0; error: invalid literal for int() with base 10: ''\n",
      "File read error, starting to count from 0; error: invalid literal for int() with base 10: ''\n",
      "File read error, starting to count from 0; error: invalid literal for int() with base 10: ''\n",
      "File read error, starting to count from 0; error: invalid literal for int() with base 10: ''\n",
      "File read error, starting to count from 0; error: invalid literal for int() with base 10: ''\n",
      "File read error, starting to count from 0; error: invalid literal for int() with base 10: ''\n",
      "File read error, starting to count from 0; error: invalid literal for int() with base 10: ''\n",
      "File read error, starting to count from 0; error: invalid literal for int() with base 10: ''\n",
      "File read error, starting to count from 0; error: invalid literal for int() with base 10: ''\n",
      "File read error, starting to count from 0; error: invalid literal for int() with base 10: ''\n",
      "File read error, starting to count from 0; error: invalid literal for int() with base 10: ''\n",
      "File read error, starting to count from 0; error: invalid literal for int() with base 10: ''\n",
      "File read error, starting to count from 0; error: invalid literal for int() with base 10: ''\n",
      "File read error, starting to count from 0; error: invalid literal for int() with base 10: ''\n",
      "File read error, starting to count from 0; error: invalid literal for int() with base 10: ''\n",
      "File read error, starting to count from 0; error: invalid literal for int() with base 10: ''\n",
      "File read error, starting to count from 0; error: invalid literal for int() with base 10: ''\n",
      "File read error, starting to count from 0; error: invalid literal for int() with base 10: ''\n",
      "File read error, starting to count from 0; error: invalid literal for int() with base 10: ''\n",
      "File read error, starting to count from 0; error: invalid literal for int() with base 10: ''\n",
      "File read error, starting to count from 0; error: invalid literal for int() with base 10: ''\n",
      "File read error, starting to count from 0; error: invalid literal for int() with base 10: ''\n",
      "File read error, starting to count from 0; error: invalid literal for int() with base 10: ''\n",
      "File read error, starting to count from 0; error: invalid literal for int() with base 10: ''\n",
      "File read error, starting to count from 0; error: invalid literal for int() with base 10: ''\n",
      "File read error, starting to count from 0; error: invalid literal for int() with base 10: ''\n",
      "File read error, starting to count from 0; error: invalid literal for int() with base 10: ''\n",
      "File read error, starting to count from 0; error: invalid literal for int() with base 10: ''\n",
      "File read error, starting to count from 0; error: invalid literal for int() with base 10: ''\n",
      "File read error, starting to count from 0; error: invalid literal for int() with base 10: ''\n",
      "File read error, starting to count from 0; error: invalid literal for int() with base 10: ''\n",
      "File read error, starting to count from 0; error: invalid literal for int() with base 10: ''\n",
      "File read error, starting to count from 0; error: invalid literal for int() with base 10: ''\n",
      "File read error, starting to count from 0; error: invalid literal for int() with base 10: ''\n",
      "File read error, starting to count from 0; error: invalid literal for int() with base 10: ''\n",
      "File read error, starting to count from 0; error: invalid literal for int() with base 10: ''\n",
      "File read error, starting to count from 0; error: invalid literal for int() with base 10: ''\n",
      "File read error, starting to count from 0; error: invalid literal for int() with base 10: ''\n",
      "File read error, starting to count from 0; error: invalid literal for int() with base 10: ''\n",
      "File read error, starting to count from 0; error: invalid literal for int() with base 10: ''\n",
      "File read error, starting to count from 0; error: invalid literal for int() with base 10: ''\n",
      "File read error, starting to count from 0; error: invalid literal for int() with base 10: ''\n",
      "File read error, starting to count from 0; error: invalid literal for int() with base 10: ''\n",
      "File read error, starting to count from 0; error: invalid literal for int() with base 10: ''\n",
      "File read error, starting to count from 0; error: invalid literal for int() with base 10: ''\n",
      "File read error, starting to count from 0; error: invalid literal for int() with base 10: ''\n",
      "File read error, starting to count from 0; error: invalid literal for int() with base 10: ''\n",
      "File read error, starting to count from 0; error: invalid literal for int() with base 10: ''\n",
      "File read error, starting to count from 0; error: invalid literal for int() with base 10: ''\n",
      "File read error, starting to count from 0; error: invalid literal for int() with base 10: ''\n",
      "File read error, starting to count from 0; error: invalid literal for int() with base 10: ''\n",
      "File read error, starting to count from 0; error: invalid literal for int() with base 10: ''\n",
      "File read error, starting to count from 0; error: invalid literal for int() with base 10: ''\n",
      "File read error, starting to count from 0; error: invalid literal for int() with base 10: ''\n",
      "File read error, starting to count from 0; error: invalid literal for int() with base 10: ''\n",
      "File read error, starting to count from 0; error: invalid literal for int() with base 10: ''\n",
      "File read error, starting to count from 0; error: invalid literal for int() with base 10: ''\n",
      "File read error, starting to count from 0; error: invalid literal for int() with base 10: ''\n",
      "File read error, starting to count from 0; error: invalid literal for int() with base 10: ''\n",
      "File read error, starting to count from 0; error: invalid literal for int() with base 10: ''\n",
      "File read error, starting to count from 0; error: invalid literal for int() with base 10: ''\n",
      "File read error, starting to count from 0; error: invalid literal for int() with base 10: ''\n",
      "File read error, starting to count from 0; error: invalid literal for int() with base 10: ''\n",
      "File read error, starting to count from 0; error: invalid literal for int() with base 10: ''\n",
      "File read error, starting to count from 0; error: invalid literal for int() with base 10: ''\n",
      "File read error, starting to count from 0; error: invalid literal for int() with base 10: ''\n",
      "File read error, starting to count from 0; error: invalid literal for int() with base 10: ''\n",
      "File read error, starting to count from 0; error: invalid literal for int() with base 10: ''\n",
      "File read error, starting to count from 0; error: invalid literal for int() with base 10: ''\n",
      "File read error, starting to count from 0; error: invalid literal for int() with base 10: ''\n",
      "File read error, starting to count from 0; error: invalid literal for int() with base 10: ''\n",
      "File read error, starting to count from 0; error: invalid literal for int() with base 10: ''\n",
      "File read error, starting to count from 0; error: invalid literal for int() with base 10: ''\n"
     ]
    }
   ],
   "source": [
    "import multiprocessing\n",
    "import functools\n",
    "\n",
    "with multiprocessing.Pool(processes=2) as p:\n",
    "    p.map(functools.partial(work, filename=\"parallel.txt\"), [1000, 2000])"
   ]
  },
  {
   "cell_type": "code",
   "execution_count": 13,
   "metadata": {},
   "outputs": [
    {
     "name": "stdout",
     "output_type": "stream",
     "text": [
      "828\n"
     ]
    }
   ],
   "source": [
    "!cat parallel.txt\n",
    "!rm parallel.txt"
   ]
  },
  {
   "cell_type": "markdown",
   "metadata": {},
   "source": [
    "3. You probably got an awful lot off errors! Check the number stored in `parallel.txt`. What value is written there? Given what was explained at the start of this section, what number do you expect to be there?"
   ]
  },
  {
   "cell_type": "markdown",
   "metadata": {},
   "source": [
    "*Answer here*"
   ]
  },
  {
   "cell_type": "markdown",
   "metadata": {},
   "source": [
    "It should be 3000 (1000 + 2000) but its only 392 (this number will be different)"
   ]
  },
  {
   "cell_type": "markdown",
   "metadata": {},
   "source": [
    "---\n",
    "### Explanation\n",
    "\n",
    "When both processes first start running the `work` function, they see that no file named `parallel.txt` currently exists. Therefore, each process starts trying to count from zero. You should have seen the message \"File doesn't exist, starting to count from 0\" printed twice, reflecting this behavior.\n",
    "\n",
    "It's arbitrary which process will succeed in writing to file first, an issue known as a \"race condition.\" As one process is in the middle of writing, its possible that the other process will read the partially saved results. This partial data cannot be read properly (it appears as an empty string), causing the exception. We've structured our code so that when a process can't read the file's data, it assumes it should start the count at 0. Therefore, when the processes read the file as the other as writing, they reset the counter! This is why the final count is much lower than we expect.\n",
    "\n",
    "Race conditions such as these can introduce bugs to our code that are hard to track down, as they are not reliably reproducible. We can use \"locks\" to prevent multiple processes from accessing the same resource (e.g. a file or variable) at the same time, preventing the race condition from creating bugs. We'll learn some implementations for locks in the following section.\n"
   ]
  },
  {
   "cell_type": "markdown",
   "metadata": {},
   "source": [
    "## Applying Different Locks\n",
    "\n",
    "There are a couple of different ways of locking access to a resource depending on what that resource is. We'll look at locking files and locking shared variables. We'll also be using shared variables more in the coming weeks.\n",
    "\n",
    "### Locking Files"
   ]
  },
  {
   "cell_type": "markdown",
   "metadata": {},
   "source": [
    "We can use the `fasteners` module in the standard library to ensure that only one process may write to a file at a time. This library makes use of *decorators*, a feature of the Python language that allows us to easily extend the behavior of functions.\n",
    "\n",
    "Decorators make adding the fastener behavior easy:\n",
    "```python\n",
    "from fasteners import interprocess_locked\n",
    "\n",
    "@interproess_locked('/tmp/tmp_lock')\n",
    "def work(max_count, filename):\n",
    "    ...\n",
    "```\n",
    "\n",
    "We have to provide a file name in which to store the lock information. "
   ]
  }
 ],
 "metadata": {
  "kernelspec": {
   "display_name": "hpc-python",
   "language": "python",
   "name": "python3"
  },
  "language_info": {
   "codemirror_mode": {
    "name": "ipython",
    "version": 3
   },
   "file_extension": ".py",
   "mimetype": "text/x-python",
   "name": "python",
   "nbconvert_exporter": "python",
   "pygments_lexer": "ipython3",
   "version": "3.11.5"
  },
  "orig_nbformat": 4
 },
 "nbformat": 4,
 "nbformat_minor": 2
}
